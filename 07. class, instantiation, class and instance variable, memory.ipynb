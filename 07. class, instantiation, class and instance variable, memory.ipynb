{
 "cells": [
  {
   "cell_type": "code",
   "execution_count": 303,
   "id": "478c1237",
   "metadata": {},
   "outputs": [],
   "source": [
    "class VisitorForm:\n",
    "    \n",
    "    # property\n",
    "    name = None\n",
    "    phone = None\n",
    "    remarks = None\n",
    "    \n",
    "    # function: method\n",
    "    \n",
    "    # auto: new object from this class : constructor\n",
    "    def __init__(self, name, phone, remarks):\n",
    "        print(\"Constructor Initiated\")\n",
    "        self.name = name\n",
    "        self.phone = phone\n",
    "        self.remarks = remarks\n",
    "    \n",
    "    # getter method\n",
    "    def getPhone(self):\n",
    "        print(self)\n",
    "        print(self.phone)\n",
    "    \n",
    "    # setter method\n",
    "    def setName(self, newname):\n",
    "        self.name = newname\n",
    "        print(\"changed\")"
   ]
  },
  {
   "cell_type": "code",
   "execution_count": 304,
   "id": "e7c5b63d",
   "metadata": {},
   "outputs": [
    {
     "name": "stdout",
     "output_type": "stream",
     "text": [
      "Constructor Initiated\n"
     ]
    }
   ],
   "source": [
    "jack  = VisitorForm(\"Jake\",1111,\"ok\")"
   ]
  },
  {
   "cell_type": "code",
   "execution_count": 305,
   "id": "f061ae84",
   "metadata": {},
   "outputs": [
    {
     "data": {
      "text/plain": [
       "['__class__',\n",
       " '__delattr__',\n",
       " '__dict__',\n",
       " '__dir__',\n",
       " '__doc__',\n",
       " '__eq__',\n",
       " '__format__',\n",
       " '__ge__',\n",
       " '__getattribute__',\n",
       " '__gt__',\n",
       " '__hash__',\n",
       " '__init__',\n",
       " '__init_subclass__',\n",
       " '__le__',\n",
       " '__lt__',\n",
       " '__module__',\n",
       " '__ne__',\n",
       " '__new__',\n",
       " '__reduce__',\n",
       " '__reduce_ex__',\n",
       " '__repr__',\n",
       " '__setattr__',\n",
       " '__sizeof__',\n",
       " '__str__',\n",
       " '__subclasshook__',\n",
       " '__weakref__',\n",
       " 'getPhone',\n",
       " 'name',\n",
       " 'phone',\n",
       " 'remarks',\n",
       " 'setName']"
      ]
     },
     "execution_count": 305,
     "metadata": {},
     "output_type": "execute_result"
    }
   ],
   "source": [
    "dir(jack)"
   ]
  },
  {
   "cell_type": "code",
   "execution_count": 321,
   "id": "4cedda35",
   "metadata": {},
   "outputs": [
    {
     "name": "stdout",
     "output_type": "stream",
     "text": [
      "Help on class VisitorForm in module __main__:\n",
      "\n",
      "class VisitorForm(builtins.object)\n",
      " |  VisitorForm(name, phone, remarks)\n",
      " |  \n",
      " |  Methods defined here:\n",
      " |  \n",
      " |  __init__(self, name, phone, remarks)\n",
      " |      Initialize self.  See help(type(self)) for accurate signature.\n",
      " |  \n",
      " |  getPhone(self)\n",
      " |      # getter method\n",
      " |  \n",
      " |  setName(self, newname)\n",
      " |      # setter method\n",
      " |  \n",
      " |  ----------------------------------------------------------------------\n",
      " |  Data descriptors defined here:\n",
      " |  \n",
      " |  __dict__\n",
      " |      dictionary for instance variables (if defined)\n",
      " |  \n",
      " |  __weakref__\n",
      " |      list of weak references to the object (if defined)\n",
      " |  \n",
      " |  ----------------------------------------------------------------------\n",
      " |  Data and other attributes defined here:\n",
      " |  \n",
      " |  name = None\n",
      " |  \n",
      " |  phone = None\n",
      " |  \n",
      " |  remarks = None\n",
      "\n"
     ]
    }
   ],
   "source": [
    "help(VisitorForm)"
   ]
  },
  {
   "cell_type": "code",
   "execution_count": null,
   "id": "5b453711",
   "metadata": {},
   "outputs": [],
   "source": [
    "# shift + tab"
   ]
  },
  {
   "cell_type": "code",
   "execution_count": null,
   "id": "401026f3",
   "metadata": {},
   "outputs": [],
   "source": []
  },
  {
   "cell_type": "code",
   "execution_count": 306,
   "id": "c2ccc4cb",
   "metadata": {},
   "outputs": [
    {
     "data": {
      "text/plain": [
       "<__main__.VisitorForm at 0x1905a5902e0>"
      ]
     },
     "execution_count": 306,
     "metadata": {},
     "output_type": "execute_result"
    }
   ],
   "source": [
    "jack"
   ]
  },
  {
   "cell_type": "code",
   "execution_count": 307,
   "id": "b9147a51",
   "metadata": {},
   "outputs": [],
   "source": [
    "jack.name = \"Jack K\""
   ]
  },
  {
   "cell_type": "code",
   "execution_count": 308,
   "id": "8903dc6b",
   "metadata": {},
   "outputs": [],
   "source": [
    "jack.phone = \"1111\""
   ]
  },
  {
   "cell_type": "code",
   "execution_count": 309,
   "id": "3c87dacd",
   "metadata": {},
   "outputs": [
    {
     "data": {
      "text/plain": [
       "{'name': 'Jack K', 'phone': '1111', 'remarks': 'ok'}"
      ]
     },
     "execution_count": 309,
     "metadata": {},
     "output_type": "execute_result"
    }
   ],
   "source": [
    "jack.__dict__"
   ]
  },
  {
   "cell_type": "code",
   "execution_count": 310,
   "id": "184a7460",
   "metadata": {},
   "outputs": [
    {
     "data": {
      "text/plain": [
       "'Jack K'"
      ]
     },
     "execution_count": 310,
     "metadata": {},
     "output_type": "execute_result"
    }
   ],
   "source": [
    "jack.name"
   ]
  },
  {
   "cell_type": "code",
   "execution_count": null,
   "id": "e25f0446",
   "metadata": {},
   "outputs": [],
   "source": []
  },
  {
   "cell_type": "code",
   "execution_count": 311,
   "id": "cd30af54",
   "metadata": {},
   "outputs": [
    {
     "name": "stdout",
     "output_type": "stream",
     "text": [
      "1111\n"
     ]
    }
   ],
   "source": [
    "getPhone(jack)"
   ]
  },
  {
   "cell_type": "code",
   "execution_count": 312,
   "id": "634934a2",
   "metadata": {},
   "outputs": [
    {
     "name": "stdout",
     "output_type": "stream",
     "text": [
      "Constructor Initiated\n"
     ]
    }
   ],
   "source": [
    "tom = VisitorForm(\"Tom\", 2222, \"on\")"
   ]
  },
  {
   "cell_type": "code",
   "execution_count": 313,
   "id": "3d96f7e6",
   "metadata": {},
   "outputs": [],
   "source": [
    "tom.name = \"Tom\""
   ]
  },
  {
   "cell_type": "code",
   "execution_count": 314,
   "id": "10140d35",
   "metadata": {},
   "outputs": [],
   "source": [
    "tom.phone = \"2222\""
   ]
  },
  {
   "cell_type": "code",
   "execution_count": 315,
   "id": "2d29293a",
   "metadata": {},
   "outputs": [
    {
     "name": "stdout",
     "output_type": "stream",
     "text": [
      "2222\n"
     ]
    }
   ],
   "source": [
    "getPhone(tom)"
   ]
  },
  {
   "cell_type": "code",
   "execution_count": 316,
   "id": "43f77feb",
   "metadata": {},
   "outputs": [],
   "source": [
    "def lw(n):\n",
    "    print(\"jjhh\")\n",
    "    print(n)"
   ]
  },
  {
   "cell_type": "code",
   "execution_count": 317,
   "id": "17981dc3",
   "metadata": {},
   "outputs": [
    {
     "name": "stdout",
     "output_type": "stream",
     "text": [
      "jjhh\n",
      "65\n"
     ]
    }
   ],
   "source": [
    "lw(65)"
   ]
  },
  {
   "cell_type": "code",
   "execution_count": 318,
   "id": "b0bda2a3",
   "metadata": {},
   "outputs": [
    {
     "name": "stdout",
     "output_type": "stream",
     "text": [
      "<__main__.VisitorForm object at 0x000001905A5902E0>\n",
      "1111\n"
     ]
    }
   ],
   "source": [
    "jack.getPhone()"
   ]
  },
  {
   "cell_type": "code",
   "execution_count": 319,
   "id": "12122927",
   "metadata": {},
   "outputs": [
    {
     "name": "stdout",
     "output_type": "stream",
     "text": [
      "changed\n"
     ]
    }
   ],
   "source": [
    "jack.setName(\"Chamma\")"
   ]
  },
  {
   "cell_type": "code",
   "execution_count": 320,
   "id": "7ac93621",
   "metadata": {},
   "outputs": [
    {
     "data": {
      "text/plain": [
       "'Chamma'"
      ]
     },
     "execution_count": 320,
     "metadata": {},
     "output_type": "execute_result"
    }
   ],
   "source": [
    "jack.name"
   ]
  },
  {
   "cell_type": "code",
   "execution_count": null,
   "id": "0ba37a34",
   "metadata": {},
   "outputs": [],
   "source": []
  },
  {
   "cell_type": "code",
   "execution_count": null,
   "id": "7b35e349",
   "metadata": {},
   "outputs": [],
   "source": []
  }
 ],
 "metadata": {
  "kernelspec": {
   "display_name": "Python 3 (ipykernel)",
   "language": "python",
   "name": "python3"
  },
  "language_info": {
   "codemirror_mode": {
    "name": "ipython",
    "version": 3
   },
   "file_extension": ".py",
   "mimetype": "text/x-python",
   "name": "python",
   "nbconvert_exporter": "python",
   "pygments_lexer": "ipython3",
   "version": "3.9.7"
  }
 },
 "nbformat": 4,
 "nbformat_minor": 5
}

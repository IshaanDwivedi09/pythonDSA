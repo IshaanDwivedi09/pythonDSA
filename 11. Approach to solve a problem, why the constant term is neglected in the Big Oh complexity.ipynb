{
 "cells": [
  {
   "cell_type": "code",
   "execution_count": 5,
   "id": "15ca0968",
   "metadata": {},
   "outputs": [],
   "source": [
    "def lw(n):\n",
    "    x =5\n",
    "    print(x)\n",
    "    print(\"hi\")\n",
    "    print(n)"
   ]
  },
  {
   "cell_type": "code",
   "execution_count": 6,
   "id": "f7c9f26e",
   "metadata": {},
   "outputs": [
    {
     "name": "stdout",
     "output_type": "stream",
     "text": [
      "5\n",
      "hi\n",
      "5\n"
     ]
    }
   ],
   "source": [
    "lw(5)"
   ]
  },
  {
   "cell_type": "code",
   "execution_count": null,
   "id": "61d90391",
   "metadata": {},
   "outputs": [],
   "source": []
  }
 ],
 "metadata": {
  "kernelspec": {
   "display_name": "Python 3 (ipykernel)",
   "language": "python",
   "name": "python3"
  },
  "language_info": {
   "codemirror_mode": {
    "name": "ipython",
    "version": 3
   },
   "file_extension": ".py",
   "mimetype": "text/x-python",
   "name": "python",
   "nbconvert_exporter": "python",
   "pygments_lexer": "ipython3",
   "version": "3.9.7"
  }
 },
 "nbformat": 4,
 "nbformat_minor": 5
}

{
 "cells": [
  {
   "cell_type": "code",
   "execution_count": 8,
   "id": "95a4f026",
   "metadata": {},
   "outputs": [],
   "source": [
    "x = 5"
   ]
  },
  {
   "cell_type": "code",
   "execution_count": 9,
   "id": "13719421",
   "metadata": {},
   "outputs": [
    {
     "data": {
      "text/plain": [
       "2152067131824"
      ]
     },
     "execution_count": 9,
     "metadata": {},
     "output_type": "execute_result"
    }
   ],
   "source": [
    "id(x)"
   ]
  },
  {
   "cell_type": "code",
   "execution_count": 10,
   "id": "ce4f49f8",
   "metadata": {},
   "outputs": [
    {
     "data": {
      "text/plain": [
       "'0x1f5113269b0'"
      ]
     },
     "execution_count": 10,
     "metadata": {},
     "output_type": "execute_result"
    }
   ],
   "source": [
    "hex(id(5))"
   ]
  },
  {
   "cell_type": "code",
   "execution_count": 11,
   "id": "e47ec8c2",
   "metadata": {},
   "outputs": [
    {
     "data": {
      "text/plain": [
       "5"
      ]
     },
     "execution_count": 11,
     "metadata": {},
     "output_type": "execute_result"
    }
   ],
   "source": [
    "x"
   ]
  },
  {
   "cell_type": "code",
   "execution_count": 12,
   "id": "5b610f04",
   "metadata": {},
   "outputs": [],
   "source": [
    "del x"
   ]
  },
  {
   "cell_type": "code",
   "execution_count": 13,
   "id": "77525150",
   "metadata": {},
   "outputs": [
    {
     "ename": "NameError",
     "evalue": "name 'x' is not defined",
     "output_type": "error",
     "traceback": [
      "\u001b[1;31m---------------------------------------------------------------------------\u001b[0m",
      "\u001b[1;31mNameError\u001b[0m                                 Traceback (most recent call last)",
      "\u001b[1;32m~\\AppData\\Local\\Temp/ipykernel_1872/32546335.py\u001b[0m in \u001b[0;36m<module>\u001b[1;34m\u001b[0m\n\u001b[1;32m----> 1\u001b[1;33m \u001b[0mx\u001b[0m\u001b[1;33m\u001b[0m\u001b[1;33m\u001b[0m\u001b[0m\n\u001b[0m",
      "\u001b[1;31mNameError\u001b[0m: name 'x' is not defined"
     ]
    }
   ],
   "source": [
    "x"
   ]
  },
  {
   "cell_type": "code",
   "execution_count": 14,
   "id": "8f70c229",
   "metadata": {},
   "outputs": [],
   "source": [
    "def lw():\n",
    "    print(\"Gi\")"
   ]
  },
  {
   "cell_type": "code",
   "execution_count": 15,
   "id": "9a4ae42b",
   "metadata": {},
   "outputs": [
    {
     "name": "stdout",
     "output_type": "stream",
     "text": [
      "Gi\n"
     ]
    }
   ],
   "source": [
    "lw()"
   ]
  },
  {
   "cell_type": "code",
   "execution_count": 17,
   "id": "0908c382",
   "metadata": {},
   "outputs": [],
   "source": [
    "del lw"
   ]
  },
  {
   "cell_type": "code",
   "execution_count": 18,
   "id": "26036cee",
   "metadata": {},
   "outputs": [
    {
     "ename": "NameError",
     "evalue": "name 'lw' is not defined",
     "output_type": "error",
     "traceback": [
      "\u001b[1;31m---------------------------------------------------------------------------\u001b[0m",
      "\u001b[1;31mNameError\u001b[0m                                 Traceback (most recent call last)",
      "\u001b[1;32m~\\AppData\\Local\\Temp/ipykernel_1872/1278602699.py\u001b[0m in \u001b[0;36m<module>\u001b[1;34m\u001b[0m\n\u001b[1;32m----> 1\u001b[1;33m \u001b[0mlw\u001b[0m\u001b[1;33m(\u001b[0m\u001b[1;33m)\u001b[0m\u001b[1;33m\u001b[0m\u001b[1;33m\u001b[0m\u001b[0m\n\u001b[0m",
      "\u001b[1;31mNameError\u001b[0m: name 'lw' is not defined"
     ]
    }
   ],
   "source": [
    "lw()"
   ]
  },
  {
   "cell_type": "code",
   "execution_count": 69,
   "id": "7150c508",
   "metadata": {},
   "outputs": [],
   "source": [
    "class VisitorForm:\n",
    "    \n",
    "    mycount = 0\n",
    "    \n",
    "    def __init__(self, myname, myphone):\n",
    "        self.name = myname\n",
    "        self.phone = myphone\n",
    "        VisitorForm.mycount +=1\n",
    "        # create code here: auto email\n",
    "        # create code here: auto sms phone\n",
    "        print(\"New Visit Done...\")\n",
    "        \n",
    "    def getPhone(self):\n",
    "        print(self.phone)"
   ]
  },
  {
   "cell_type": "code",
   "execution_count": 70,
   "id": "30d970c9",
   "metadata": {},
   "outputs": [
    {
     "name": "stdout",
     "output_type": "stream",
     "text": [
      "New Visit Done...\n"
     ]
    }
   ],
   "source": [
    "jack = VisitorForm(myname = \"Jack k\", myphone=1111)"
   ]
  },
  {
   "cell_type": "code",
   "execution_count": 71,
   "id": "584b8e8a",
   "metadata": {},
   "outputs": [
    {
     "name": "stdout",
     "output_type": "stream",
     "text": [
      "New Visit Done...\n"
     ]
    }
   ],
   "source": [
    "tom = VisitorForm(myname = \"Tom t\", myphone=2222)"
   ]
  },
  {
   "cell_type": "code",
   "execution_count": 72,
   "id": "f15b360b",
   "metadata": {},
   "outputs": [
    {
     "data": {
      "text/plain": [
       "2"
      ]
     },
     "execution_count": 72,
     "metadata": {},
     "output_type": "execute_result"
    }
   ],
   "source": [
    "VisitorForm.mycount"
   ]
  },
  {
   "cell_type": "code",
   "execution_count": 73,
   "id": "36e1b3b0",
   "metadata": {},
   "outputs": [
    {
     "data": {
      "text/plain": [
       "<__main__.VisitorForm at 0x1f517296d00>"
      ]
     },
     "execution_count": 73,
     "metadata": {},
     "output_type": "execute_result"
    }
   ],
   "source": [
    "jack"
   ]
  },
  {
   "cell_type": "code",
   "execution_count": 74,
   "id": "48f13fd1",
   "metadata": {},
   "outputs": [],
   "source": [
    "del jack"
   ]
  },
  {
   "cell_type": "code",
   "execution_count": 75,
   "id": "9a9eac2c",
   "metadata": {},
   "outputs": [
    {
     "ename": "NameError",
     "evalue": "name 'jack' is not defined",
     "output_type": "error",
     "traceback": [
      "\u001b[1;31m---------------------------------------------------------------------------\u001b[0m",
      "\u001b[1;31mNameError\u001b[0m                                 Traceback (most recent call last)",
      "\u001b[1;32m~\\AppData\\Local\\Temp/ipykernel_1872/2281995693.py\u001b[0m in \u001b[0;36m<module>\u001b[1;34m\u001b[0m\n\u001b[1;32m----> 1\u001b[1;33m \u001b[0mjack\u001b[0m\u001b[1;33m\u001b[0m\u001b[1;33m\u001b[0m\u001b[0m\n\u001b[0m",
      "\u001b[1;31mNameError\u001b[0m: name 'jack' is not defined"
     ]
    }
   ],
   "source": [
    "jack"
   ]
  },
  {
   "cell_type": "code",
   "execution_count": 218,
   "id": "7a14b5cc",
   "metadata": {},
   "outputs": [],
   "source": [
    "# parent class\n",
    "class visitorForm:\n",
    "    \n",
    "    mycount = 10\n",
    "    \n",
    "    def __init__(self, name, phone):\n",
    "        self.name = name\n",
    "        self.phone = phone\n",
    "        \n",
    "    def getPhone(self):\n",
    "        print(\"phone from parent\")\n",
    "        print(self.phone)\n",
    "        \n",
    "    def lw(self):\n",
    "        print(\"Welcome to LW\")"
   ]
  },
  {
   "cell_type": "code",
   "execution_count": 219,
   "id": "1e88ebb3",
   "metadata": {},
   "outputs": [],
   "source": [
    "# child class\n",
    "\n",
    "# parent class -- super class\n",
    "class jobForm(visitorForm):\n",
    "    \n",
    "    'practice docstring'\n",
    "    \n",
    "    # constructor override\n",
    "    def __init__(self, myexp, myname, myphone):\n",
    "        self.exp = myexp\n",
    "        print(\"I am Child\")\n",
    "        \n",
    "        super().__init__(myname, myphone)\n",
    "    \n",
    "    def myJob(self):\n",
    "        print(\"My Job\")\n",
    "#         lw() // doesn't have capability to call any method/ function\n",
    "        print(super())\n",
    "        super().lw()\n",
    "        t = super().mycount\n",
    "        print(t)\n",
    "        \n",
    "    def getPhone(self):\n",
    "        print(\"phone from child\")\n",
    "        print(self.phone)"
   ]
  },
  {
   "cell_type": "code",
   "execution_count": 220,
   "id": "727ea262",
   "metadata": {},
   "outputs": [
    {
     "name": "stdout",
     "output_type": "stream",
     "text": [
      "I am Child\n"
     ]
    }
   ],
   "source": [
    "jack = jobForm(3,\"Jack K\", 99999)"
   ]
  },
  {
   "cell_type": "code",
   "execution_count": 221,
   "id": "3e00e166",
   "metadata": {},
   "outputs": [
    {
     "data": {
      "text/plain": [
       "{'exp': 3, 'name': 'Jack K', 'phone': 99999}"
      ]
     },
     "execution_count": 221,
     "metadata": {},
     "output_type": "execute_result"
    }
   ],
   "source": [
    "jack.__dict__"
   ]
  },
  {
   "cell_type": "code",
   "execution_count": 222,
   "id": "92007ed0",
   "metadata": {},
   "outputs": [
    {
     "name": "stdout",
     "output_type": "stream",
     "text": [
      "My Job\n",
      "<super: <class 'jobForm'>, <jobForm object>>\n",
      "Welcome to LW\n",
      "10\n"
     ]
    }
   ],
   "source": [
    "jack.myJob()"
   ]
  },
  {
   "cell_type": "code",
   "execution_count": 223,
   "id": "8f98a86e",
   "metadata": {},
   "outputs": [
    {
     "name": "stdout",
     "output_type": "stream",
     "text": [
      "phone from child\n",
      "99999\n"
     ]
    }
   ],
   "source": [
    "jack.getPhone()"
   ]
  },
  {
   "cell_type": "code",
   "execution_count": 224,
   "id": "e9556d5b",
   "metadata": {},
   "outputs": [
    {
     "name": "stdout",
     "output_type": "stream",
     "text": [
      "phone from child\n",
      "99999\n"
     ]
    }
   ],
   "source": [
    "jack.getPhone()"
   ]
  },
  {
   "cell_type": "code",
   "execution_count": 225,
   "id": "9b693075",
   "metadata": {},
   "outputs": [
    {
     "data": {
      "text/plain": [
       "'practice docstring'"
      ]
     },
     "execution_count": 225,
     "metadata": {},
     "output_type": "execute_result"
    }
   ],
   "source": [
    "jack.__doc__"
   ]
  },
  {
   "cell_type": "code",
   "execution_count": 226,
   "id": "71d10fc8",
   "metadata": {},
   "outputs": [],
   "source": [
    "class secForm:\n",
    "    def mysec(self):\n",
    "        print(\"Form main gate\")"
   ]
  },
  {
   "cell_type": "code",
   "execution_count": 227,
   "id": "f6bd813b",
   "metadata": {},
   "outputs": [],
   "source": [
    "class recFrom:\n",
    "    def myrec(self):\n",
    "        print(\"From rec area\")"
   ]
  },
  {
   "cell_type": "code",
   "execution_count": 228,
   "id": "42140e27",
   "metadata": {},
   "outputs": [],
   "source": [
    "class jobForm(secForm, recFrom):\n",
    "    def myjob(self):\n",
    "        print(\"I got job\")"
   ]
  },
  {
   "cell_type": "code",
   "execution_count": 229,
   "id": "8f2ddf6e",
   "metadata": {},
   "outputs": [],
   "source": [
    "jack = jobForm()"
   ]
  },
  {
   "cell_type": "code",
   "execution_count": 230,
   "id": "cd1c1c36",
   "metadata": {},
   "outputs": [
    {
     "name": "stdout",
     "output_type": "stream",
     "text": [
      "I got job\n"
     ]
    }
   ],
   "source": [
    "jack.myjob()"
   ]
  },
  {
   "cell_type": "code",
   "execution_count": 231,
   "id": "1677bd55",
   "metadata": {},
   "outputs": [
    {
     "name": "stdout",
     "output_type": "stream",
     "text": [
      "From rec area\n"
     ]
    }
   ],
   "source": [
    "jack.myrec()"
   ]
  },
  {
   "cell_type": "code",
   "execution_count": 232,
   "id": "cf0db1d1",
   "metadata": {},
   "outputs": [
    {
     "name": "stdout",
     "output_type": "stream",
     "text": [
      "Form main gate\n"
     ]
    }
   ],
   "source": [
    "jack.mysec()"
   ]
  },
  {
   "cell_type": "code",
   "execution_count": null,
   "id": "4a5683d1",
   "metadata": {},
   "outputs": [],
   "source": []
  },
  {
   "cell_type": "code",
   "execution_count": null,
   "id": "44365f25",
   "metadata": {},
   "outputs": [],
   "source": []
  },
  {
   "cell_type": "code",
   "execution_count": null,
   "id": "6495d2ce",
   "metadata": {},
   "outputs": [],
   "source": []
  }
 ],
 "metadata": {
  "kernelspec": {
   "display_name": "Python 3 (ipykernel)",
   "language": "python",
   "name": "python3"
  },
  "language_info": {
   "codemirror_mode": {
    "name": "ipython",
    "version": 3
   },
   "file_extension": ".py",
   "mimetype": "text/x-python",
   "name": "python",
   "nbconvert_exporter": "python",
   "pygments_lexer": "ipython3",
   "version": "3.9.7"
  }
 },
 "nbformat": 4,
 "nbformat_minor": 5
}

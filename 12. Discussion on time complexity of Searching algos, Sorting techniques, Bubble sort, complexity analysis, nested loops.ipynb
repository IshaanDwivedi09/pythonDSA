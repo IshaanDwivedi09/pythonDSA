{
 "cells": [
  {
   "cell_type": "code",
   "execution_count": 1,
   "id": "8ff9b00e",
   "metadata": {},
   "outputs": [],
   "source": [
    "st = ['ram','pop','tom','eric','umesh']"
   ]
  },
  {
   "cell_type": "code",
   "execution_count": 2,
   "id": "a7ac948f",
   "metadata": {},
   "outputs": [],
   "source": [
    "items = ['popcorn','cold drink','xyz']"
   ]
  },
  {
   "cell_type": "code",
   "execution_count": 6,
   "id": "c4b197db",
   "metadata": {},
   "outputs": [
    {
     "name": "stdout",
     "output_type": "stream",
     "text": [
      "ram popcorn\n",
      "ram cold drink\n",
      "ram xyz\n",
      "pop popcorn\n",
      "pop cold drink\n",
      "pop xyz\n",
      "tom popcorn\n",
      "tom cold drink\n",
      "tom xyz\n",
      "eric popcorn\n",
      "eric cold drink\n",
      "eric xyz\n",
      "umesh popcorn\n",
      "umesh cold drink\n",
      "umesh xyz\n"
     ]
    }
   ],
   "source": [
    "#  service men from cinema\n",
    "# nested loop\n",
    "# thump rule: n^2\n",
    "\n",
    "for i in st:  # n runs\n",
    "    for j in items: # n runs\n",
    "        print(i,j) # n* n = N^2 -- time complexity"
   ]
  },
  {
   "cell_type": "code",
   "execution_count": null,
   "id": "fa607de1",
   "metadata": {},
   "outputs": [],
   "source": []
  }
 ],
 "metadata": {
  "kernelspec": {
   "display_name": "Python 3 (ipykernel)",
   "language": "python",
   "name": "python3"
  },
  "language_info": {
   "codemirror_mode": {
    "name": "ipython",
    "version": 3
   },
   "file_extension": ".py",
   "mimetype": "text/x-python",
   "name": "python",
   "nbconvert_exporter": "python",
   "pygments_lexer": "ipython3",
   "version": "3.9.7"
  }
 },
 "nbformat": 4,
 "nbformat_minor": 5
}

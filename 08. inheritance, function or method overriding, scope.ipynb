{
 "cells": [
  {
   "cell_type": "code",
   "execution_count": 1,
   "id": "9037aa07",
   "metadata": {},
   "outputs": [],
   "source": [
    "def lw():\n",
    "    x= 5\n",
    "    y=10\n",
    "    return x+y"
   ]
  },
  {
   "cell_type": "code",
   "execution_count": 2,
   "id": "dfe3e0c9",
   "metadata": {},
   "outputs": [
    {
     "data": {
      "text/plain": [
       "<function __main__.lw()>"
      ]
     },
     "execution_count": 2,
     "metadata": {},
     "output_type": "execute_result"
    }
   ],
   "source": [
    "lw"
   ]
  },
  {
   "cell_type": "code",
   "execution_count": 3,
   "id": "91d65579",
   "metadata": {},
   "outputs": [
    {
     "data": {
      "text/plain": [
       "15"
      ]
     },
     "execution_count": 3,
     "metadata": {},
     "output_type": "execute_result"
    }
   ],
   "source": [
    "lw()"
   ]
  },
  {
   "cell_type": "code",
   "execution_count": 4,
   "id": "082b1486",
   "metadata": {},
   "outputs": [],
   "source": [
    "class VisitorForm:\n",
    "    name = \"Vimal\"\n",
    "    phone = 9999999\n",
    "    \n",
    "    def __init__(self, myname):\n",
    "        self.name = myname\n",
    "    \n",
    "    def getName(self):\n",
    "        print(self.name)"
   ]
  },
  {
   "cell_type": "markdown",
   "id": "994b3624",
   "metadata": {},
   "source": []
  },
  {
   "cell_type": "code",
   "execution_count": 5,
   "id": "34ca633b",
   "metadata": {},
   "outputs": [],
   "source": [
    "jack = VisitorForm(\"Jack k\")"
   ]
  },
  {
   "cell_type": "markdown",
   "id": "82457412",
   "metadata": {},
   "source": []
  },
  {
   "cell_type": "code",
   "execution_count": 6,
   "id": "ef7286d9",
   "metadata": {},
   "outputs": [
    {
     "data": {
      "text/plain": [
       "'Jack k'"
      ]
     },
     "execution_count": 6,
     "metadata": {},
     "output_type": "execute_result"
    }
   ],
   "source": [
    "jack.name"
   ]
  },
  {
   "cell_type": "code",
   "execution_count": null,
   "id": "5c6927cc",
   "metadata": {},
   "outputs": [],
   "source": []
  },
  {
   "cell_type": "code",
   "execution_count": 14,
   "id": "5a59dfa2",
   "metadata": {},
   "outputs": [],
   "source": [
    "# Parent Class\n",
    "\n",
    "class visitorForm:\n",
    "    city = \"Jaipur\"\n",
    "    \n",
    "    def lw(self):\n",
    "        print(\"Hi LW\")"
   ]
  },
  {
   "cell_type": "code",
   "execution_count": 18,
   "id": "43f8b103",
   "metadata": {},
   "outputs": [],
   "source": [
    "# Child Class\n",
    "class jobForm(visitorForm):\n",
    "    def myjob(self):\n",
    "        print(\"Hi Job\")"
   ]
  },
  {
   "cell_type": "code",
   "execution_count": 19,
   "id": "944c67e9",
   "metadata": {},
   "outputs": [],
   "source": [
    "tom = jobForm()"
   ]
  },
  {
   "cell_type": "code",
   "execution_count": 20,
   "id": "04e16f4c",
   "metadata": {},
   "outputs": [
    {
     "name": "stdout",
     "output_type": "stream",
     "text": [
      "Hi Job\n"
     ]
    }
   ],
   "source": [
    "tom.myjob()"
   ]
  },
  {
   "cell_type": "code",
   "execution_count": 21,
   "id": "27cfd4b1",
   "metadata": {},
   "outputs": [
    {
     "name": "stdout",
     "output_type": "stream",
     "text": [
      "Hi LW\n"
     ]
    }
   ],
   "source": [
    "tom.lw()"
   ]
  },
  {
   "cell_type": "code",
   "execution_count": 22,
   "id": "18dbacf9",
   "metadata": {},
   "outputs": [
    {
     "data": {
      "text/plain": [
       "'Jaipur'"
      ]
     },
     "execution_count": 22,
     "metadata": {},
     "output_type": "execute_result"
    }
   ],
   "source": [
    "tom.city"
   ]
  },
  {
   "cell_type": "code",
   "execution_count": 42,
   "id": "2924b797",
   "metadata": {},
   "outputs": [],
   "source": [
    "# parent class\n",
    "class VisitorForm:\n",
    "    \n",
    "    def __init__(self, myname, myphone):\n",
    "        self.name = myname\n",
    "        self.phone = myphone\n",
    "        print(\"I am from parent\")\n",
    "        \n",
    "    def myhello(self):\n",
    "        print(\"i m from parent\")"
   ]
  },
  {
   "cell_type": "code",
   "execution_count": 43,
   "id": "00bc4d5d",
   "metadata": {},
   "outputs": [],
   "source": [
    "# child class\n",
    "class JobForm(VisitorForm):\n",
    "    \n",
    "    def __init__(self):\n",
    "        print(\"I am from Child\")\n",
    "        \n",
    "    def getName(self):\n",
    "        print(self.name)\n",
    "        \n",
    "    def setPhone(self, newphone):\n",
    "        self.phone = newphone\n",
    "        \n",
    "    #  method / function overriding\n",
    "    def myhello(self):\n",
    "        print(\"i m from child\")"
   ]
  },
  {
   "cell_type": "code",
   "execution_count": 46,
   "id": "422b66e7",
   "metadata": {},
   "outputs": [
    {
     "ename": "TypeError",
     "evalue": "__init__() takes 1 positional argument but 3 were given",
     "output_type": "error",
     "traceback": [
      "\u001b[1;31m---------------------------------------------------------------------------\u001b[0m",
      "\u001b[1;31mTypeError\u001b[0m                                 Traceback (most recent call last)",
      "\u001b[1;32m~\\AppData\\Local\\Temp/ipykernel_10816/1302118467.py\u001b[0m in \u001b[0;36m<module>\u001b[1;34m\u001b[0m\n\u001b[1;32m----> 1\u001b[1;33m \u001b[0mjack\u001b[0m \u001b[1;33m=\u001b[0m \u001b[0mJobForm\u001b[0m\u001b[1;33m(\u001b[0m\u001b[1;34m\"Jack K\"\u001b[0m\u001b[1;33m,\u001b[0m\u001b[1;36m999999\u001b[0m\u001b[1;33m)\u001b[0m\u001b[1;33m\u001b[0m\u001b[1;33m\u001b[0m\u001b[0m\n\u001b[0m",
      "\u001b[1;31mTypeError\u001b[0m: __init__() takes 1 positional argument but 3 were given"
     ]
    }
   ],
   "source": [
    "jack = JobForm(\"Jack K\",999999)"
   ]
  },
  {
   "cell_type": "code",
   "execution_count": 47,
   "id": "fc6f8398",
   "metadata": {},
   "outputs": [
    {
     "name": "stdout",
     "output_type": "stream",
     "text": [
      "I am from Child\n"
     ]
    }
   ],
   "source": [
    "jack = JobForm()"
   ]
  },
  {
   "cell_type": "code",
   "execution_count": null,
   "id": "26104c55",
   "metadata": {},
   "outputs": [],
   "source": []
  }
 ],
 "metadata": {
  "kernelspec": {
   "display_name": "Python 3 (ipykernel)",
   "language": "python",
   "name": "python3"
  },
  "language_info": {
   "codemirror_mode": {
    "name": "ipython",
    "version": 3
   },
   "file_extension": ".py",
   "mimetype": "text/x-python",
   "name": "python",
   "nbconvert_exporter": "python",
   "pygments_lexer": "ipython3",
   "version": "3.9.7"
  }
 },
 "nbformat": 4,
 "nbformat_minor": 5
}
